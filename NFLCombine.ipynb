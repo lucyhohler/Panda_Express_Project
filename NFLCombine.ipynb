{
 "cells": [
  {
   "cell_type": "code",
   "execution_count": 10,
   "metadata": {},
   "outputs": [],
   "source": [
    "# Dependencies\n",
    "import pandas as pd\n",
    "import matplotlib.pyplot as plt"
   ]
  },
  {
   "cell_type": "code",
   "execution_count": 11,
   "metadata": {},
   "outputs": [],
   "source": [
    "#Setting Datasets\n",
    "\n",
    "#Quarterback Data\n",
    "QB2010to2015 = \"Resources/QB_2010_to_2015.csv\"\n",
    "\n",
    "#Runingback Data\n",
    "RB2010to2015 = \"Resources/RB_2010_to_2015.csv\"\n",
    "\n",
    "#LB Data\n",
    "OLB2010to2015 = \"Resources/OLB_2010_to_2015.csv\"\n",
    "ILB2010to2015 = \"Resources/ILB_2010_to_2015.csv\"\n",
    "\n",
    "#Defensive Line Data\n",
    "DL2010 = \"Resources/DL2010.csv\"\n",
    "DL2011 = \"Resources/DL2011.csv\"\n",
    "DL2012 = \"Resources/DL2012.csv\"\n",
    "DL2013 = \"Resources/DL2013.csv\"\n",
    "DL2014 = \"Resources/DL2014.csv\"\n",
    "DL2015 = \"Resources/DL2015.csv\"\n",
    "\n",
    "#OL Data\n",
    "OL2010to2013 = \"Resources/OL2010_2013.csv\"\n",
    "OL2014to2015 = \"Resources/OL2014_2015.csv\"\n",
    "\n",
    "#TE Data\n",
    "TE2010to2015 = \"Resources/TE2010_2015.csv\"\n",
    "\n",
    "#Receiver Data\n",
    "WR2010to2013 = \"Resources/WR2010_2013.csv\"\n",
    "WR2014to2015 = \"Resources/WR2014_2015.csv\"\n",
    "\n",
    "#Defensive Backs Data\n",
    "FS2010to2015 = \"Resources/FS2010to2015.csv\"\n",
    "SS2010to2015 = \"Resources/SS2010to2015.csv\"\n",
    "CB2010to2012 = \"Resources/CB2010to2012.csv\"\n",
    "CB2013to2015 = \"Resources/CB2013to2015.csv\"\n",
    "\n",
    "#Pro Bowl Data\n",
    "PB2011 = \"Resources/ProBowl2011.csv\"\n",
    "PB2012 = \"Resources/ProBowl2012.csv\"\n",
    "PB2013 = \"Resources/ProBowl2013.csv\"\n",
    "PB2014 = \"Resources/ProBowl2014.csv\"\n",
    "PB2015 = \"Resources/ProBowl2015.csv\"\n",
    "PB2016 = \"Resources/ProBowl2016.csv\"\n",
    "PB2017 = \"Resources/ProBowl2017.csv\"\n",
    "PB2018 = \"Resources/ProBowl2018.csv\""
   ]
  },
  {
   "cell_type": "code",
   "execution_count": null,
   "metadata": {},
   "outputs": [],
   "source": []
  },
  {
   "cell_type": "code",
   "execution_count": 12,
   "metadata": {},
   "outputs": [],
   "source": [
    "#Loading into DataFrame\n",
    "\n",
    "#QB DataFrame\n",
    "QB_2010to2015_df = pd.read_csv(QB2010to2015, encoding=\"utf-8\")\n",
    "\n",
    "#RB DataFrame\n",
    "RB_2010to2015_df = pd.read_csv(RB2010to2015, encoding=\"utf-8\")\n",
    "\n",
    "#LB DataFrames\n",
    "ILB_2010to2015_df = pd.read_csv(ILB2010to2015, encoding=\"utf-8\")\n",
    "OLB_2010to2015_df = pd.read_csv(OLB2010to2015, encoding=\"utf-8\")\n",
    "\n",
    "#DL DataFrame\n",
    "DL_2010_df = pd.read_csv(DL2010, encoding=\"utf-8\")\n",
    "DL_2011_df = pd.read_csv(DL2011, encoding=\"utf-8\")\n",
    "DL_2012_df = pd.read_csv(DL2012, encoding=\"utf-8\")\n",
    "DL_2013_df = pd.read_csv(DL2013, encoding=\"utf-8\")\n",
    "DL_2014_df = pd.read_csv(DL2014, encoding=\"utf-8\")\n",
    "DL_2015_df = pd.read_csv(DL2015, encoding=\"utf-8\")\n",
    "\n",
    "#DB DataFrame\n",
    "FS_2010to2015_df = pd.read_csv(FS2010to2015, encoding=\"utf-8\")\n",
    "SS_2010to2015_df = pd.read_csv(SS2010to2015, encoding=\"utf-8\")\n",
    "CB_2010to2012_df = pd.read_csv(CB2010to2012, encoding=\"utf-8\")\n",
    "CB_2013to2015_df = pd.read_csv(CB2013to2015, encoding=\"utf-8\")\n",
    "\n",
    "#OL DataFrame\n",
    "OL2010to2013_df = pd.read_csv(OL2010to2013, encoding=\"utf-8\")\n",
    "OL2014to2015_df = pd.read_csv(OL2014to2015, encoding=\"utf-8\")\n",
    "\n",
    "#TE DataFrame\n",
    "TE2010to2015_df = pd.read_csv(TE2010to2015, encoding=\"utf-8\")\n",
    "\n",
    "#WR DataFrame\n",
    "WR2010to2013_df = pd.read_csv(WR2010to2013, encoding=\"utf-8\")\n",
    "WR2014to2015_df = pd.read_csv(WR2014to2015, encoding=\"utf-8\")\n",
    "\n",
    "#ProBowl DataFrames\n",
    "PB2011_df = pd.read_csv(PB2011, encoding='utf-8')\n",
    "PB2012_df = pd.read_csv(PB2012, encoding='utf-8')\n",
    "PB2013_df = pd.read_csv(PB2013, encoding='utf-8')\n",
    "PB2014_df = pd.read_csv(PB2014, encoding='utf-8')\n",
    "PB2015_df = pd.read_csv(PB2015, encoding='utf-8')\n",
    "PB2016_df = pd.read_csv(PB2016, encoding='utf-8')\n",
    "PB2017_df = pd.read_csv(PB2017, encoding='utf-8')\n",
    "PB2018_df = pd.read_csv(PB2018, encoding='utf-8')"
   ]
  },
  {
   "cell_type": "code",
   "execution_count": 13,
   "metadata": {},
   "outputs": [],
   "source": [
    "#Replacing names of positions for easier data analysis\n",
    "\n",
    "#Offensive tackle & offensive guard converted to offensive line allocation\n",
    "OL2010to2013_df['Pos'] = OL2010to2013_df['Pos'].replace({'OG': 'OL', 'OT': 'OL'})\n",
    "OL2014to2015_df['Pos'] = OL2014to2015_df['Pos'].replace({'OG': 'OL', 'OT': 'OL'})\n",
    "\n",
    "#Outside linebacker & inside linebacker converted to general Linebacker allocation\n",
    "ILB_2010to2015_df['Pos'] = ILB_2010to2015_df['Pos'].replace({'OLB': 'LB', 'ILB': 'LB'})\n",
    "OLB_2010to2015_df['Pos'] = OLB_2010to2015_df['Pos'].replace({'OLB': 'LB', 'ILB': 'LB'})\n",
    "\n",
    "#Defensive end & defensive tackle converted to defensive line allocation\n",
    "DL_2010_df['Pos'] = DL_2010_df['Pos'].replace(\n",
    "   {'DE': 'DL', 'DT': 'DL'})\n",
    "DL_2011_df['Pos'] = DL_2011_df['Pos'].replace(\n",
    "   {'DE': 'DL', 'DT': 'DL'})\n",
    "DL_2012_df['Pos'] = DL_2012_df['Pos'].replace(\n",
    "   {'DE': 'DL', 'DT': 'DL'})\n",
    "DL_2013_df['Pos'] = DL_2013_df['Pos'].replace(\n",
    "   {'DE': 'DL', 'DT': 'DL'})   \n",
    "DL_2014_df['Pos'] = DL_2014_df['Pos'].replace(\n",
    "   {'DE': 'DL', 'DT': 'DL'})\n",
    "DL_2015_df['Pos'] = DL_2015_df['Pos'].replace(\n",
    "   {'DE': 'DL', 'DT': 'DL'})\n",
    "\n",
    "#Cornerbacks and Safeties converted to defensive back allocation\n",
    "FS_2010to2015_df['Pos'] = FS_2010to2015_df['Pos'].replace(\n",
    "   {'FS': 'DB'})\n",
    "SS_2010to2015_df['Pos'] = SS_2010to2015_df['Pos'].replace(\n",
    "   {'SS': 'DB'})\n",
    "CB_2010to2012_df['Pos'] = CB_2010to2012_df['Pos'].replace(\n",
    "    {'CB': 'DB'})\n",
    "CB_2013to2015_df['Pos'] = CB_2013to2015_df['Pos'].replace(\n",
    "    {'CB': 'DB'})"
   ]
  },
  {
   "cell_type": "code",
   "execution_count": 14,
   "metadata": {},
   "outputs": [],
   "source": [
    "#Merging DataFrames\n",
    "merge1_DL = DL_2010_df.append(DL_2011_df, ignore_index=True)\n",
    "merge2_DL = merge1_DL.append(DL_2012_df, ignore_index=True)\n",
    "merge3_DL = merge2_DL.append(DL_2013_df, ignore_index=True)\n",
    "merge4_DL = merge3_DL.append(DL_2014_df, ignore_index=True)\n",
    "master_DL = merge4_DL.append(DL_2015_df, ignore_index=True)\n",
    "\n",
    "#Merging DB DataFrames; use of multiple files; using for function\n",
    "master_DB = FS_2010to2015_df\n",
    "DBFiles = [SS_2010to2015_df, CB_2010to2012_df, CB_2013to2015_df]\n",
    "\n",
    "for DBFile in DBFiles:\n",
    "    master_DB = master_DB.append(DBFile, ignore_index=True)\n",
    "\n",
    "#Merging PB DataFrames; use of multiple files; using for function \n",
    "master_PB = PB2011_df\n",
    "PBFiles = [PB2013_df,PB2014_df,PB2015_df,PB2016_df,PB2017_df, PB2018_df]\n",
    "\n",
    "for PBFile in PBFiles:\n",
    "    master_PB = master_PB.append(PBFile, ignore_index=True)\n",
    "\n",
    "#Merging LB DataFrames;\n",
    "master_LB = ILB_2010to2015_df.append(OLB_2010to2015_df, ignore_index=True)\n",
    "\n",
    "#Merging OL DataFrames;\n",
    "master_OL = OL2010to2013_df.append(OL2014to2015_df, ignore_index=True)\n",
    "\n",
    "#Merging WR DataFrames;\n",
    "master_WR = WR2010to2013_df.append(WR2014to2015_df, ignore_index=True)\n"
   ]
  },
  {
   "cell_type": "code",
   "execution_count": 15,
   "metadata": {},
   "outputs": [],
   "source": [
    "#Cleaning Data;\n",
    "\n",
    "#Pulling the categories we need from each master positon list\n",
    "master_DB = master_DB[['Year','Player','Pos','Height',\"Wt\",'40YD','Vertical','BenchReps','Broad Jump','3Cone','Shuttle']]\n",
    "master_DL = master_DL[['Year','Player','Pos','Height',\"Wt\",'40YD','Vertical','BenchReps','Broad Jump','3Cone','Shuttle']]\n",
    "master_OL = master_OL[['Year','Player','Pos','Height',\"Wt\",'40YD','Vertical','BenchReps','Broad Jump','3Cone','Shuttle']]\n",
    "master_LB = master_LB[['Year','Player','Pos','Height',\"Wt\",'40YD','Vertical','BenchReps','Broad Jump','3Cone','Shuttle']]\n",
    "master_WR = master_WR[['Year','Player','Pos','Height',\"Wt\",'40YD','Vertical','BenchReps','Broad Jump','3Cone','Shuttle']]\n",
    "master_QB = QB_2010to2015_df[['Year','Player','Pos','Height',\"Wt\",'40YD','Vertical','BenchReps','Broad Jump','3Cone','Shuttle']]\n",
    "master_RB = RB_2010to2015_df[['Year','Player','Pos','Height',\"Wt\",'40YD','Vertical','BenchReps','Broad Jump','3Cone','Shuttle']]\n",
    "\n",
    "#Cleaning ProBowl names; taking out the '+' and '%'\n",
    "master_PB.Player = [x.strip('+') for x in master_PB.Player]\n",
    "master_PB.Player = [x.strip('%') for x in master_PB.Player]\n",
    "\n",
    "#Pulling only the Player names\n",
    "master_PB = master_PB[['Player']]"
   ]
  },
  {
   "cell_type": "code",
   "execution_count": 16,
   "metadata": {},
   "outputs": [
    {
     "name": "stderr",
     "output_type": "stream",
     "text": [
      "C:\\Users\\cheng\\AppData\\Local\\Continuum\\anaconda3\\envs\\PythonData\\lib\\site-packages\\ipykernel_launcher.py:6: SettingWithCopyWarning: \n",
      "A value is trying to be set on a copy of a slice from a DataFrame.\n",
      "Try using .loc[row_indexer,col_indexer] = value instead\n",
      "\n",
      "See the caveats in the documentation: http://pandas.pydata.org/pandas-docs/stable/indexing.html#indexing-view-versus-copy\n",
      "  \n",
      "C:\\Users\\cheng\\AppData\\Local\\Continuum\\anaconda3\\envs\\PythonData\\lib\\site-packages\\ipykernel_launcher.py:8: SettingWithCopyWarning: \n",
      "A value is trying to be set on a copy of a slice from a DataFrame.\n",
      "Try using .loc[row_indexer,col_indexer] = value instead\n",
      "\n",
      "See the caveats in the documentation: http://pandas.pydata.org/pandas-docs/stable/indexing.html#indexing-view-versus-copy\n",
      "  \n"
     ]
    }
   ],
   "source": [
    "#Creating a new row 'ProBowl Appearances' and taking a value count for how many times their names appear in the master_PB file\n",
    "master_DL['ProBowl Appearances'] = master_DL['Player'].map(master_PB['Player'].value_counts())\n",
    "master_DB['ProBowl Appearances'] = master_DB['Player'].map(master_PB['Player'].value_counts())\n",
    "master_WR['ProBowl Appearances'] = master_WR['Player'].map(master_PB['Player'].value_counts())\n",
    "master_LB['ProBowl Appearances'] = master_LB['Player'].map(master_PB['Player'].value_counts())\n",
    "master_RB['ProBowl Appearances'] = master_RB['Player'].map(master_PB['Player'].value_counts())\n",
    "master_OL['ProBowl Appearances'] = master_OL['Player'].map(master_PB['Player'].value_counts())\n",
    "master_QB['ProBowl Appearances'] = master_QB['Player'].map(master_PB['Player'].value_counts())"
   ]
  },
  {
   "cell_type": "code",
   "execution_count": 17,
   "metadata": {},
   "outputs": [
    {
     "data": {
      "image/png": "[encoded data removed]",
      "text/plain": [
       "<Figure size 432x288 with 1 Axes>"
      ]
     },
     "metadata": {
      "needs_background": "light"
     },
     "output_type": "display_data"
    }
   ],
   "source": [
    "#Creating the graphs\n",
    "plt.scatter(master_DB['3Cone'], master_DB['Shuttle'], s=master_DB['ProBowl Appearances']*100, color = ['gold'], edgecolor = 'black', alpha = .75)\n",
    "plt.scatter(master_DL['3Cone'], master_DL['Shuttle'], s=master_DL['ProBowl Appearances']*100, color = ['coral'], edgecolor = 'black', alpha = .75)\n",
    "plt.scatter(master_LB['3Cone'], master_LB['Shuttle'], s=master_LB['ProBowl Appearances']*100, color = ['green'], edgecolor = 'black', alpha = .75)\n",
    "plt.grid()f"
   ]
  },
  {
   "cell_type": "code",
   "execution_count": 18,
   "metadata": {},
   "outputs": [
    {
     "data": {
      "text/plain": [
       "<matplotlib.collections.PathCollection at 0x179bd5aa5f8>"
      ]
     },
     "execution_count": 18,
     "metadata": {},
     "output_type": "execute_result"
    },
    {
     "data": {
      "image/png": "[encoded data removed]",
      "text/plain": [
       "<Figure size 432x288 with 1 Axes>"
      ]
     },
     "metadata": {
      "needs_background": "light"
     },
     "output_type": "display_data"
    }
   ],
   "source": []
  },
  {
   "cell_type": "code",
   "execution_count": null,
   "metadata": {},
   "outputs": [],
   "source": [
    "#insert cell"
   ]
  }
 ],
 "metadata": {
  "kernelspec": {
   "display_name": "Python 3",
   "language": "python",
   "name": "python3"
  }
 },
 "nbformat": 4,
 "nbformat_minor": 2
}
